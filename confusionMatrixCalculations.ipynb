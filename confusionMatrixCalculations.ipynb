{
 "cells": [
  {
   "cell_type": "code",
   "execution_count": null,
   "metadata": {},
   "outputs": [],
   "source": [
    "def calculateAccuracy(TP,FN,FP,TN):\n",
    "    TP= int(input(\"TP:\"))\n",
    "    FN= int(input(\"FN:\"))\n",
    "    FP= int(input(\"FP:\"))\n",
    "    TN= int(input(\"TN:\"))\n",
    "    accuracy= (TN + TP) / (TP + FN + FP + TN)\n",
    "    print(\"The calculated accuracy is \",accuracy)\n",
    "    return accuracy\n",
    "\n",
    "def calculatePrecission(TP, FP):\n",
    "    precission= TP / (TP+ FP)\n",
    "    print(\"The calculated precission is:\", precission)\n",
    "    return precission\n",
    "\n"
   ]
  }
 ],
 "metadata": {
  "language_info": {
   "name": "python"
  }
 },
 "nbformat": 4,
 "nbformat_minor": 2
}
